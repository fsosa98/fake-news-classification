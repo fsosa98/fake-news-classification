{
 "cells": [
  {
   "cell_type": "markdown",
   "metadata": {},
   "source": [
    "# Fake News Classifier\n",
    "\n",
    "11.11.2020. \n",
    "Filip Sosa"
   ]
  },
  {
   "cell_type": "markdown",
   "metadata": {},
   "source": [
    "Učitavanje osnovnih biblioteka"
   ]
  },
  {
   "cell_type": "code",
   "execution_count": 3,
   "metadata": {},
   "outputs": [],
   "source": [
    "import pandas as pd\n",
    "import numpy as np\n",
    "import matplotlib.pyplot as plt\n",
    "%matplotlib inline\n",
    "import tensorflow as tf\n",
    "\n",
    "from tensorflow.keras.preprocessing.text import Tokenizer\n",
    "from tensorflow.keras.preprocessing.sequence import pad_sequences\n",
    "\n",
    "from sklearn.metrics import confusion_matrix,classification_report,accuracy_score\n",
    "import seaborn as sn"
   ]
  },
  {
   "cell_type": "markdown",
   "metadata": {},
   "source": [
    "## Analiza podataka"
   ]
  },
  {
   "cell_type": "code",
   "execution_count": 4,
   "metadata": {},
   "outputs": [
    {
     "data": {
      "text/html": [
       "<div>\n",
       "<style scoped>\n",
       "    .dataframe tbody tr th:only-of-type {\n",
       "        vertical-align: middle;\n",
       "    }\n",
       "\n",
       "    .dataframe tbody tr th {\n",
       "        vertical-align: top;\n",
       "    }\n",
       "\n",
       "    .dataframe thead th {\n",
       "        text-align: right;\n",
       "    }\n",
       "</style>\n",
       "<table border=\"1\" class=\"dataframe\">\n",
       "  <thead>\n",
       "    <tr style=\"text-align: right;\">\n",
       "      <th></th>\n",
       "      <th>id</th>\n",
       "      <th>title</th>\n",
       "      <th>author</th>\n",
       "      <th>text</th>\n",
       "      <th>label</th>\n",
       "    </tr>\n",
       "  </thead>\n",
       "  <tbody>\n",
       "    <tr>\n",
       "      <th>0</th>\n",
       "      <td>0</td>\n",
       "      <td>House Dem Aide: We Didn’t Even See Comey’s Let...</td>\n",
       "      <td>Darrell Lucus</td>\n",
       "      <td>House Dem Aide: We Didn’t Even See Comey’s Let...</td>\n",
       "      <td>1</td>\n",
       "    </tr>\n",
       "    <tr>\n",
       "      <th>1</th>\n",
       "      <td>1</td>\n",
       "      <td>FLYNN: Hillary Clinton, Big Woman on Campus - ...</td>\n",
       "      <td>Daniel J. Flynn</td>\n",
       "      <td>Ever get the feeling your life circles the rou...</td>\n",
       "      <td>0</td>\n",
       "    </tr>\n",
       "    <tr>\n",
       "      <th>2</th>\n",
       "      <td>2</td>\n",
       "      <td>Why the Truth Might Get You Fired</td>\n",
       "      <td>Consortiumnews.com</td>\n",
       "      <td>Why the Truth Might Get You Fired October 29, ...</td>\n",
       "      <td>1</td>\n",
       "    </tr>\n",
       "    <tr>\n",
       "      <th>3</th>\n",
       "      <td>3</td>\n",
       "      <td>15 Civilians Killed In Single US Airstrike Hav...</td>\n",
       "      <td>Jessica Purkiss</td>\n",
       "      <td>Videos 15 Civilians Killed In Single US Airstr...</td>\n",
       "      <td>1</td>\n",
       "    </tr>\n",
       "    <tr>\n",
       "      <th>4</th>\n",
       "      <td>4</td>\n",
       "      <td>Iranian woman jailed for fictional unpublished...</td>\n",
       "      <td>Howard Portnoy</td>\n",
       "      <td>Print \\nAn Iranian woman has been sentenced to...</td>\n",
       "      <td>1</td>\n",
       "    </tr>\n",
       "    <tr>\n",
       "      <th>5</th>\n",
       "      <td>5</td>\n",
       "      <td>Jackie Mason: Hollywood Would Love Trump if He...</td>\n",
       "      <td>Daniel Nussbaum</td>\n",
       "      <td>In these trying times, Jackie Mason is the Voi...</td>\n",
       "      <td>0</td>\n",
       "    </tr>\n",
       "    <tr>\n",
       "      <th>6</th>\n",
       "      <td>6</td>\n",
       "      <td>Life: Life Of Luxury: Elton John’s 6 Favorite ...</td>\n",
       "      <td>NaN</td>\n",
       "      <td>Ever wonder how Britain’s most iconic pop pian...</td>\n",
       "      <td>1</td>\n",
       "    </tr>\n",
       "    <tr>\n",
       "      <th>7</th>\n",
       "      <td>7</td>\n",
       "      <td>Benoît Hamon Wins French Socialist Party’s Pre...</td>\n",
       "      <td>Alissa J. Rubin</td>\n",
       "      <td>PARIS  —   France chose an idealistic, traditi...</td>\n",
       "      <td>0</td>\n",
       "    </tr>\n",
       "    <tr>\n",
       "      <th>8</th>\n",
       "      <td>8</td>\n",
       "      <td>Excerpts From a Draft Script for Donald Trump’...</td>\n",
       "      <td>NaN</td>\n",
       "      <td>Donald J. Trump is scheduled to make a highly ...</td>\n",
       "      <td>0</td>\n",
       "    </tr>\n",
       "    <tr>\n",
       "      <th>9</th>\n",
       "      <td>9</td>\n",
       "      <td>A Back-Channel Plan for Ukraine and Russia, Co...</td>\n",
       "      <td>Megan Twohey and Scott Shane</td>\n",
       "      <td>A week before Michael T. Flynn resigned as nat...</td>\n",
       "      <td>0</td>\n",
       "    </tr>\n",
       "  </tbody>\n",
       "</table>\n",
       "</div>"
      ],
      "text/plain": [
       "   id                                              title  \\\n",
       "0   0  House Dem Aide: We Didn’t Even See Comey’s Let...   \n",
       "1   1  FLYNN: Hillary Clinton, Big Woman on Campus - ...   \n",
       "2   2                  Why the Truth Might Get You Fired   \n",
       "3   3  15 Civilians Killed In Single US Airstrike Hav...   \n",
       "4   4  Iranian woman jailed for fictional unpublished...   \n",
       "5   5  Jackie Mason: Hollywood Would Love Trump if He...   \n",
       "6   6  Life: Life Of Luxury: Elton John’s 6 Favorite ...   \n",
       "7   7  Benoît Hamon Wins French Socialist Party’s Pre...   \n",
       "8   8  Excerpts From a Draft Script for Donald Trump’...   \n",
       "9   9  A Back-Channel Plan for Ukraine and Russia, Co...   \n",
       "\n",
       "                         author  \\\n",
       "0                 Darrell Lucus   \n",
       "1               Daniel J. Flynn   \n",
       "2            Consortiumnews.com   \n",
       "3               Jessica Purkiss   \n",
       "4                Howard Portnoy   \n",
       "5               Daniel Nussbaum   \n",
       "6                           NaN   \n",
       "7               Alissa J. Rubin   \n",
       "8                           NaN   \n",
       "9  Megan Twohey and Scott Shane   \n",
       "\n",
       "                                                text  label  \n",
       "0  House Dem Aide: We Didn’t Even See Comey’s Let...      1  \n",
       "1  Ever get the feeling your life circles the rou...      0  \n",
       "2  Why the Truth Might Get You Fired October 29, ...      1  \n",
       "3  Videos 15 Civilians Killed In Single US Airstr...      1  \n",
       "4  Print \\nAn Iranian woman has been sentenced to...      1  \n",
       "5  In these trying times, Jackie Mason is the Voi...      0  \n",
       "6  Ever wonder how Britain’s most iconic pop pian...      1  \n",
       "7  PARIS  —   France chose an idealistic, traditi...      0  \n",
       "8  Donald J. Trump is scheduled to make a highly ...      0  \n",
       "9  A week before Michael T. Flynn resigned as nat...      0  "
      ]
     },
     "execution_count": 4,
     "metadata": {},
     "output_type": "execute_result"
    }
   ],
   "source": [
    "#Učitavanje podataka\n",
    "news_df = pd.read_csv('train.csv')\n",
    "news_df.head(10)"
   ]
  },
  {
   "cell_type": "code",
   "execution_count": 5,
   "metadata": {},
   "outputs": [
    {
     "name": "stdout",
     "output_type": "stream",
     "text": [
      "id           0\n",
      "title      558\n",
      "author    1957\n",
      "text        39\n",
      "label        0\n",
      "dtype: int64\n"
     ]
    }
   ],
   "source": [
    "#Provjera postoje li NaN vrijednosti te zamjena istih praznim stringom\n",
    "print(news_df.isna().sum())\n",
    "news_df = news_df.fillna(' ')\n",
    "\n",
    "#Uklanjanje duplikata ukoliko postoje\n",
    "news_df = news_df.drop_duplicates(subset=['text'], keep='first')"
   ]
  },
  {
   "cell_type": "code",
   "execution_count": 6,
   "metadata": {},
   "outputs": [
    {
     "name": "stdout",
     "output_type": "stream",
     "text": [
      "(20386,)\n",
      "(5200,)\n"
     ]
    }
   ],
   "source": [
    "#Spajanje naslova, autora i teksta novinskog članka\n",
    "x_train = news_df['title'] + ' ' + news_df['author'] + ' ' + news_df['text']\n",
    "y_train = news_df['label']\n",
    "\n",
    "#Učitavanje testnih podataka\n",
    "news_df_test = pd.read_csv('test.csv')\n",
    "news_df_test = news_df_test.fillna(' ')\n",
    "x_test = news_df_test['title'] + ' ' + news_df_test['author'] + ' ' + news_df_test['text']\n",
    "y_test = pd.read_csv('submit.csv')['label']\n",
    "\n",
    "print(x_train.shape)\n",
    "print(x_test.shape)\n"
   ]
  },
  {
   "cell_type": "code",
   "execution_count": 7,
   "metadata": {},
   "outputs": [
    {
     "name": "stdout",
     "output_type": "stream",
     "text": [
      "Postotak primjer klasificiranih kao real news je 50.95%\n",
      "Postotak primjer klasificiranih kao fake news je 49.05%\n",
      "Klase su uravnotežene\n"
     ]
    }
   ],
   "source": [
    "#Provjera uravnoteženosti klasa\n",
    "N = len(news_df)\n",
    "percentage_real_news = len(news_df['label'][news_df['label'] == 0]) * 100 / N\n",
    "percentage_fake_news = len(news_df['label'][news_df['label'] == 1]) * 100 / N\n",
    "\n",
    "print('Postotak primjer klasificiranih kao real news je ' + str(round(percentage_real_news, 2)) + '%')\n",
    "print('Postotak primjer klasificiranih kao fake news je ' + str(round(percentage_fake_news, 2)) + '%')\n",
    "\n",
    "if abs(percentage_real_news - percentage_fake_news) < 20:\n",
    "    print('Klase su uravnotežene')\n",
    "else:\n",
    "    print('Klase nisu uravnotežene')"
   ]
  },
  {
   "cell_type": "markdown",
   "metadata": {},
   "source": [
    "**Zaključak:**\n",
    "U podatcima se nalazi približno jednak broj real i fake news članaka što je dobro obilježje za klasifikaciju."
   ]
  },
  {
   "cell_type": "code",
   "execution_count": 8,
   "metadata": {},
   "outputs": [
    {
     "data": {
      "image/png": "[encoded data removed]",
      "text/plain": [
       "<Figure size 432x288 with 1 Axes>"
      ]
     },
     "metadata": {
      "needs_background": "light"
     },
     "output_type": "display_data"
    },
    {
     "data": {
      "image/png": "[encoded data removed]",
      "text/plain": [
       "<Figure size 432x288 with 1 Axes>"
      ]
     },
     "metadata": {
      "needs_background": "light"
     },
     "output_type": "display_data"
    },
    {
     "name": "stdout",
     "output_type": "stream",
     "text": [
      "Real news\n",
      "Srednja vrijednost ukupnog broja riječi u članku je 895.3430249350149, dok je medijan jednak 790.0\n",
      "Fake news\n",
      "Srednja vrijednost ukupnog broja riječi u članku je 661.5962596259626, dok je medijan jednak 407.0\n"
     ]
    }
   ],
   "source": [
    "#Usporedba broja riječi kod fake i real news članaka \n",
    "x_total_len_real = [len(x.split()) for x in x_train[news_df['label'] == 0]]\n",
    "x_total_len_fake = [len(x.split()) for x in x_train[news_df['label'] == 1]]\n",
    "\n",
    "plt.hist(x_total_len_real, bins=15, range=[0, 4001])\n",
    "plt.title('Real News')\n",
    "plt.xlabel('Number of words')\n",
    "plt.ylabel('Frequency')\n",
    "plt.show()\n",
    "plt.hist(x_total_len_fake, bins=15, range=[0, 4001])\n",
    "plt.title('Fake News')\n",
    "plt.xlabel('Number of words')\n",
    "plt.ylabel('Frequency')\n",
    "plt.show()\n",
    "\n",
    "print('Real news')\n",
    "print('Srednja vrijednost ukupnog broja riječi u članku je ' + str(np.mean(x_total_len_real)) + ', dok je medijan jednak ' + str(np.median(x_total_len_real)))\n",
    "print('Fake news')\n",
    "print('Srednja vrijednost ukupnog broja riječi u članku je ' + str(np.mean(x_total_len_fake)) + ', dok je medijan jednak ' + str(np.median(x_total_len_fake)))"
   ]
  },
  {
   "cell_type": "markdown",
   "metadata": {},
   "source": [
    "**Zaključak:**\n",
    "Iz histograma i medijana ukupnog broja riječi u članku može se zaključiti da real news članci imaju više riječi od fake news članaka."
   ]
  },
  {
   "cell_type": "markdown",
   "metadata": {},
   "source": [
    "## Izrada modela"
   ]
  },
  {
   "cell_type": "code",
   "execution_count": 9,
   "metadata": {},
   "outputs": [],
   "source": [
    "#Postavljanje hiperparametara modela\n",
    "padding = 'post'\n",
    "oov_token = '<OOV>'\n",
    "truncating = 'post'\n",
    "\n",
    "vocabulary_size = 200\n",
    "max_length = 100\n",
    "embedding_dim = 40"
   ]
  },
  {
   "cell_type": "code",
   "execution_count": 10,
   "metadata": {},
   "outputs": [],
   "source": [
    "#Tokenizacija\n",
    "tokenizer = Tokenizer(num_words = vocabulary_size, oov_token = oov_token)\n",
    "tokenizer.fit_on_texts(x_train)\n",
    "\n",
    "x_train_sequences = tokenizer.texts_to_sequences(x_train)\n",
    "x_train_padded = pad_sequences(x_train_sequences, maxlen = max_length, padding = padding, truncating = truncating)\n",
    "\n",
    "x_test_sequences = tokenizer.texts_to_sequences(x_test)\n",
    "x_test_padded = pad_sequences(x_test_sequences, maxlen = max_length, padding = padding, truncating = truncating)"
   ]
  },
  {
   "cell_type": "markdown",
   "metadata": {},
   "source": [
    "### Treniranje 4 modela:\n",
    "<br>\n",
    "1. Logistička regresija \n",
    "<br>\n",
    "2. Bayesov klasifikator\n",
    "<br>\n",
    "3. Stabla odluke\n",
    "<br>\n",
    "4. Neuronska mreža"
   ]
  },
  {
   "cell_type": "code",
   "execution_count": 11,
   "metadata": {},
   "outputs": [],
   "source": [
    "#Pomoćne funkcije za prikaz rezultata i matrice konfuzije\n",
    "def plot_confusion_matrix(cnf_matrix, classes):\n",
    "    plt.figure()\n",
    "    sn.heatmap(cnf_matrix, annot = True)\n",
    "    \n",
    "    tick_marks = np.arange(len(classes))\n",
    "    plt.xticks(tick_marks + 0.5, classes, rotation=0)\n",
    "    plt.yticks(tick_marks + 0.2, classes)\n",
    "    \n",
    "    plt.title('Confusion matrix')\n",
    "    plt.ylabel('True label')\n",
    "    plt.xlabel('Predicted label')\n",
    "    \n",
    "    plt.show()\n",
    "\n",
    "def results_info(y_pred, y_test):\n",
    "    print('Uspješnost modela:')\n",
    "    print(classification_report(y_pred, y_test))\n",
    "    cnf_matrix = confusion_matrix(y_test, y_pred)\n",
    "    print('Matrica konfuzije:')\n",
    "    print(cnf_matrix)\n",
    "    plot_confusion_matrix(cnf_matrix, classes=['Real news','Fake news'])"
   ]
  },
  {
   "cell_type": "markdown",
   "metadata": {},
   "source": [
    "**1. Logistička regresija**"
   ]
  },
  {
   "cell_type": "code",
   "execution_count": 12,
   "metadata": {},
   "outputs": [
    {
     "name": "stdout",
     "output_type": "stream",
     "text": [
      "Uspješnost modela:\n",
      "              precision    recall  f1-score   support\n",
      "\n",
      "           0       0.64      0.60      0.62      2464\n",
      "           1       0.66      0.69      0.67      2736\n",
      "\n",
      "    accuracy                           0.65      5200\n",
      "   macro avg       0.65      0.65      0.65      5200\n",
      "weighted avg       0.65      0.65      0.65      5200\n",
      "\n",
      "Matrica konfuzije:\n",
      "[[1488  851]\n",
      " [ 976 1885]]\n"
     ]
    },
    {
     "data": {
      "image/png": "[encoded data removed]",
      "text/plain": [
       "<Figure size 432x288 with 2 Axes>"
      ]
     },
     "metadata": {
      "needs_background": "light"
     },
     "output_type": "display_data"
    }
   ],
   "source": [
    "from sklearn.linear_model import LogisticRegression\n",
    "\n",
    "#Logistička regresija\n",
    "log_reg_model = LogisticRegression()\n",
    "log_reg_model.fit(x_train_padded, y_train)\n",
    "y_pred = log_reg_model.predict(x_test_padded)\n",
    "\n",
    "#Prikaz rezultata\n",
    "results_info(y_pred, y_test)"
   ]
  },
  {
   "cell_type": "markdown",
   "metadata": {},
   "source": [
    "**2. Bayesov klasifikator**"
   ]
  },
  {
   "cell_type": "code",
   "execution_count": 55,
   "metadata": {},
   "outputs": [
    {
     "name": "stdout",
     "output_type": "stream",
     "text": [
      "Uspješnost modela:\n",
      "              precision    recall  f1-score   support\n",
      "\n",
      "           0       0.92      1.00      0.96      2166\n",
      "           1       1.00      0.94      0.97      3034\n",
      "\n",
      "    accuracy                           0.96      5200\n",
      "   macro avg       0.96      0.97      0.96      5200\n",
      "weighted avg       0.97      0.96      0.96      5200\n",
      "\n",
      "Matrica konfuzije:\n",
      "[[2157  182]\n",
      " [   9 2852]]\n"
     ]
    },
    {
     "data": {
      "image/png": "[encoded data removed]",
      "text/plain": [
       "<Figure size 432x288 with 2 Axes>"
      ]
     },
     "metadata": {
      "needs_background": "light"
     },
     "output_type": "display_data"
    }
   ],
   "source": [
    "from sklearn.naive_bayes import MultinomialNB\n",
    "\n",
    "NB_model = MultinomialNB()\n",
    "NB_model.fit(x_train_padded, y_train)\n",
    "y_pred = NB_model.predict(x_test_padded)\n",
    "\n",
    "#Prikaz rezultata\n",
    "results_info(y_pred, y_test)"
   ]
  },
  {
   "cell_type": "markdown",
   "metadata": {},
   "source": [
    "**3. Stabla odluke**"
   ]
  },
  {
   "cell_type": "code",
   "execution_count": 63,
   "metadata": {},
   "outputs": [
    {
     "name": "stdout",
     "output_type": "stream",
     "text": [
      "Uspješnost modela:\n",
      "              precision    recall  f1-score   support\n",
      "\n",
      "           0       0.76      0.67      0.71      2633\n",
      "           1       0.70      0.78      0.74      2567\n",
      "\n",
      "    accuracy                           0.73      5200\n",
      "   macro avg       0.73      0.73      0.73      5200\n",
      "weighted avg       0.73      0.73      0.73      5200\n",
      "\n",
      "Matrica konfuzije:\n",
      "[[1774  565]\n",
      " [ 859 2002]]\n"
     ]
    },
    {
     "data": {
      "image/png": "[encoded data removed]",
      "text/plain": [
       "<Figure size 432x288 with 2 Axes>"
      ]
     },
     "metadata": {
      "needs_background": "light"
     },
     "output_type": "display_data"
    }
   ],
   "source": [
    "from sklearn.tree import DecisionTreeClassifier\n",
    "\n",
    "tree_model = DecisionTreeClassifier(criterion=\"entropy\", max_depth = 3)\n",
    "tree_model.fit(x_train_padded, y_train)\n",
    "y_pred = tree_model.predict(x_test_padded)\n",
    "\n",
    "#Prikaz rezultata\n",
    "results_info(y_pred, y_test)"
   ]
  },
  {
   "cell_type": "markdown",
   "metadata": {},
   "source": [
    "**4. Neuronska mreža**"
   ]
  },
  {
   "cell_type": "code",
   "execution_count": 13,
   "metadata": {},
   "outputs": [
    {
     "name": "stdout",
     "output_type": "stream",
     "text": [
      "Model: \"sequential\"\n",
      "_________________________________________________________________\n",
      "Layer (type)                 Output Shape              Param #   \n",
      "=================================================================\n",
      "embedding (Embedding)        (None, 100, 40)           8000      \n",
      "_________________________________________________________________\n",
      "global_average_pooling1d (Gl (None, 40)                0         \n",
      "_________________________________________________________________\n",
      "dense (Dense)                (None, 24)                984       \n",
      "_________________________________________________________________\n",
      "dense_1 (Dense)              (None, 1)                 25        \n",
      "=================================================================\n",
      "Total params: 9,009\n",
      "Trainable params: 9,009\n",
      "Non-trainable params: 0\n",
      "_________________________________________________________________\n"
     ]
    }
   ],
   "source": [
    "model = tf.keras.Sequential([\n",
    "    tf.keras.layers.Embedding(vocabulary_size, embedding_dim, input_length=max_length),\n",
    "    #tf.keras.layers.Bidirectional(tf.keras.layers.LSTM(100)),\n",
    "    tf.keras.layers.GlobalAveragePooling1D(),\n",
    "    tf.keras.layers.Dense(24, activation='relu'),\n",
    "    tf.keras.layers.Dense(1, activation='sigmoid')\n",
    "])\n",
    "model.compile(loss='binary_crossentropy',optimizer='adam',metrics=['accuracy'])\n",
    "model.summary()"
   ]
  },
  {
   "cell_type": "code",
   "execution_count": 14,
   "metadata": {},
   "outputs": [
    {
     "name": "stdout",
     "output_type": "stream",
     "text": [
      "Epoch 1/10\n",
      "319/319 [==============================] - 1s 2ms/step - loss: 0.5124 - accuracy: 0.7799 - val_loss: 0.7484 - val_accuracy: 0.6558\n",
      "Epoch 2/10\n",
      "319/319 [==============================] - 0s 2ms/step - loss: 0.2761 - accuracy: 0.8854 - val_loss: 1.0116 - val_accuracy: 0.6477\n",
      "Epoch 3/10\n",
      "319/319 [==============================] - 1s 2ms/step - loss: 0.2469 - accuracy: 0.8970 - val_loss: 1.1108 - val_accuracy: 0.6388\n",
      "Epoch 4/10\n",
      "319/319 [==============================] - 0s 2ms/step - loss: 0.2396 - accuracy: 0.9012 - val_loss: 1.1122 - val_accuracy: 0.6588\n",
      "Epoch 5/10\n",
      "319/319 [==============================] - 1s 2ms/step - loss: 0.2367 - accuracy: 0.9014 - val_loss: 1.1526 - val_accuracy: 0.6377\n",
      "Epoch 6/10\n",
      "319/319 [==============================] - 1s 2ms/step - loss: 0.2346 - accuracy: 0.9025 - val_loss: 1.1296 - val_accuracy: 0.6500\n",
      "Epoch 7/10\n",
      "319/319 [==============================] - 1s 2ms/step - loss: 0.2333 - accuracy: 0.9041 - val_loss: 1.1313 - val_accuracy: 0.6485\n",
      "Epoch 8/10\n",
      "319/319 [==============================] - 1s 2ms/step - loss: 0.2331 - accuracy: 0.9040 - val_loss: 1.1407 - val_accuracy: 0.6410\n",
      "Epoch 9/10\n",
      "319/319 [==============================] - 1s 2ms/step - loss: 0.2322 - accuracy: 0.9048 - val_loss: 1.1183 - val_accuracy: 0.6529\n",
      "Epoch 10/10\n",
      "319/319 [==============================] - 0s 2ms/step - loss: 0.2319 - accuracy: 0.9052 - val_loss: 1.1464 - val_accuracy: 0.6375\n"
     ]
    }
   ],
   "source": [
    "num_epochs = 10\n",
    "history = model.fit(x_train_padded, y_train, epochs=num_epochs, batch_size=64, validation_data=(x_test_padded, y_test), verbose=1)"
   ]
  },
  {
   "cell_type": "markdown",
   "metadata": {},
   "source": [
    "**Zaključak:**\n",
    "Bayesov klasifikator dao je najbolje rezultate s točnošću od 96%. Nešto lošije rezultate dali su ostali modeli."
   ]
  }
 ],
 "metadata": {
  "anaconda-cloud": {},
  "kernelspec": {
   "display_name": "Python 3",
   "language": "python",
   "name": "python3"
  },
  "language_info": {
   "codemirror_mode": {
    "name": "ipython",
    "version": 3
   },
   "file_extension": ".py",
   "mimetype": "text/x-python",
   "name": "python",
   "nbconvert_exporter": "python",
   "pygments_lexer": "ipython3",
   "version": "3.8.3"
  }
 },
 "nbformat": 4,
 "nbformat_minor": 2
}
